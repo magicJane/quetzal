{
 "cells": [
  {
   "cell_type": "code",
   "execution_count": 1,
   "metadata": {},
   "outputs": [],
   "source": [
    "qpath = r'C:/Users/rgoix/DEV/quetzal/' # path to quetzal here\n",
    "data = r'inputs/'\n",
    "import sys\n",
    "sys.path.append(qpath + r'quetzal/')\n",
    "\n",
    "# import class\n",
    "from quetzal.io.gtfs_reader import importer"
   ]
  },
  {
   "cell_type": "markdown",
   "metadata": {},
   "source": [
    "### Read GTFS"
   ]
  },
  {
   "cell_type": "code",
   "execution_count": 2,
   "metadata": {},
   "outputs": [
    {
     "data": {
      "text/html": [
       "<div>\n",
       "<style scoped>\n",
       "    .dataframe tbody tr th:only-of-type {\n",
       "        vertical-align: middle;\n",
       "    }\n",
       "\n",
       "    .dataframe tbody tr th {\n",
       "        vertical-align: top;\n",
       "    }\n",
       "\n",
       "    .dataframe thead th {\n",
       "        text-align: right;\n",
       "    }\n",
       "</style>\n",
       "<table border=\"1\" class=\"dataframe\">\n",
       "  <thead>\n",
       "    <tr style=\"text-align: right;\">\n",
       "      <th></th>\n",
       "      <th>indicator</th>\n",
       "      <th>value</th>\n",
       "    </tr>\n",
       "  </thead>\n",
       "  <tbody>\n",
       "    <tr>\n",
       "      <th>0</th>\n",
       "      <td>agencies</td>\n",
       "      <td>[AMA Department of Transport]</td>\n",
       "    </tr>\n",
       "    <tr>\n",
       "      <th>1</th>\n",
       "      <td>running_services</td>\n",
       "      <td>[0]</td>\n",
       "    </tr>\n",
       "    <tr>\n",
       "      <th>2</th>\n",
       "      <td>timezone</td>\n",
       "      <td>Africa/Accra</td>\n",
       "    </tr>\n",
       "    <tr>\n",
       "      <th>3</th>\n",
       "      <td>start_date</td>\n",
       "      <td>20190304</td>\n",
       "    </tr>\n",
       "    <tr>\n",
       "      <th>4</th>\n",
       "      <td>end_date</td>\n",
       "      <td>20200131</td>\n",
       "    </tr>\n",
       "    <tr>\n",
       "      <th>5</th>\n",
       "      <td>num_routes</td>\n",
       "      <td>277</td>\n",
       "    </tr>\n",
       "    <tr>\n",
       "      <th>6</th>\n",
       "      <td>num_trips</td>\n",
       "      <td>554</td>\n",
       "    </tr>\n",
       "    <tr>\n",
       "      <th>7</th>\n",
       "      <td>num_stops</td>\n",
       "      <td>4171</td>\n",
       "    </tr>\n",
       "    <tr>\n",
       "      <th>8</th>\n",
       "      <td>num_shapes</td>\n",
       "      <td>554</td>\n",
       "    </tr>\n",
       "    <tr>\n",
       "      <th>9</th>\n",
       "      <td>num_frequencies</td>\n",
       "      <td>554</td>\n",
       "    </tr>\n",
       "  </tbody>\n",
       "</table>\n",
       "</div>"
      ],
      "text/plain": [
       "          indicator                          value\n",
       "0          agencies  [AMA Department of Transport]\n",
       "1  running_services                            [0]\n",
       "2          timezone                   Africa/Accra\n",
       "3        start_date                       20190304\n",
       "4          end_date                       20200131\n",
       "5        num_routes                            277\n",
       "6         num_trips                            554\n",
       "7         num_stops                           4171\n",
       "8        num_shapes                            554\n",
       "9   num_frequencies                            554"
      ]
     },
     "execution_count": 2,
     "metadata": {},
     "output_type": "execute_result"
    }
   ],
   "source": [
    "feed = importer.GtfsImporter(path=data + r'accra_trotro', dist_units='m')\n",
    "feed.clean()\n",
    "feed.describe()"
   ]
  },
  {
   "cell_type": "code",
   "execution_count": 3,
   "metadata": {},
   "outputs": [
    {
     "data": {
      "text/html": [
       "\n",
       "        <iframe\n",
       "            width=\"100%\"\n",
       "            height=\"750px\"\n",
       "            src=\"index_5.html\"\n",
       "            frameborder=\"0\"\n",
       "            allowfullscreen\n",
       "        ></iframe>\n",
       "        "
      ],
      "text/plain": [
       "<IPython.lib.display.IFrame at 0x1c66986a2b0>"
      ]
     },
     "execution_count": 3,
     "metadata": {},
     "output_type": "execute_result"
    }
   ],
   "source": [
    "feed.map_stops(feed.stops.stop_id)"
   ]
  },
  {
   "cell_type": "markdown",
   "metadata": {},
   "source": [
    "To simplify a GTFS or for modeling purposes, we often want to group trips that are not geographically identical, but close to each other.  \n",
    "The default method to build patterns only group geographically identical trips. It however possible to clusterize the station in order to broaden the definition of a pattern."
   ]
  },
  {
   "cell_type": "markdown",
   "metadata": {},
   "source": [
    "####  Stop clustering"
   ]
  },
  {
   "cell_type": "markdown",
   "metadata": {},
   "source": [
    "This method allows to clusterize the stops based on a distance threshold (and not a number of cluster threshold).\n",
    "It is however not efficient for large feeds.  \n",
    "\n",
    "Tested and working up to 5000 stops until now."
   ]
  },
  {
   "cell_type": "code",
   "execution_count": 4,
   "metadata": {},
   "outputs": [],
   "source": [
    "feed.build_stop_clusters(distance_threshold=300) # It is also possible to use the parent stations"
   ]
  },
  {
   "cell_type": "markdown",
   "metadata": {},
   "source": [
    "This adds a cluster_id column to the stops"
   ]
  },
  {
   "cell_type": "code",
   "execution_count": 5,
   "metadata": {},
   "outputs": [
    {
     "data": {
      "text/html": [
       "<div>\n",
       "<style scoped>\n",
       "    .dataframe tbody tr th:only-of-type {\n",
       "        vertical-align: middle;\n",
       "    }\n",
       "\n",
       "    .dataframe tbody tr th {\n",
       "        vertical-align: top;\n",
       "    }\n",
       "\n",
       "    .dataframe thead th {\n",
       "        text-align: right;\n",
       "    }\n",
       "</style>\n",
       "<table border=\"1\" class=\"dataframe\">\n",
       "  <thead>\n",
       "    <tr style=\"text-align: right;\">\n",
       "      <th></th>\n",
       "      <th>stop_name</th>\n",
       "      <th>stop_id</th>\n",
       "      <th>location_type</th>\n",
       "      <th>parent_station</th>\n",
       "      <th>cluster_id</th>\n",
       "      <th>stop_lon</th>\n",
       "      <th>stop_lat</th>\n",
       "    </tr>\n",
       "  </thead>\n",
       "  <tbody>\n",
       "    <tr>\n",
       "      <th>0</th>\n",
       "      <td>Tse Addo</td>\n",
       "      <td>5010786347</td>\n",
       "      <td>0</td>\n",
       "      <td>SA5010786347</td>\n",
       "      <td>1081</td>\n",
       "      <td>-0.138535</td>\n",
       "      <td>5.587618</td>\n",
       "    </tr>\n",
       "    <tr>\n",
       "      <th>1</th>\n",
       "      <td>Bostal</td>\n",
       "      <td>5030747563</td>\n",
       "      <td>0</td>\n",
       "      <td>SA5030747563</td>\n",
       "      <td>358</td>\n",
       "      <td>-0.188797</td>\n",
       "      <td>5.606415</td>\n",
       "    </tr>\n",
       "    <tr>\n",
       "      <th>2</th>\n",
       "      <td>Second Juction</td>\n",
       "      <td>5010786348</td>\n",
       "      <td>0</td>\n",
       "      <td>SA5010786348</td>\n",
       "      <td>60</td>\n",
       "      <td>-0.141622</td>\n",
       "      <td>5.585648</td>\n",
       "    </tr>\n",
       "    <tr>\n",
       "      <th>3</th>\n",
       "      <td>Junction</td>\n",
       "      <td>5010786349</td>\n",
       "      <td>0</td>\n",
       "      <td>SA5010786349</td>\n",
       "      <td>60</td>\n",
       "      <td>-0.142669</td>\n",
       "      <td>5.584328</td>\n",
       "    </tr>\n",
       "    <tr>\n",
       "      <th>4</th>\n",
       "      <td>Fadama</td>\n",
       "      <td>SA4990070170</td>\n",
       "      <td>1</td>\n",
       "      <td>NaN</td>\n",
       "      <td>732</td>\n",
       "      <td>-0.240793</td>\n",
       "      <td>5.601748</td>\n",
       "    </tr>\n",
       "  </tbody>\n",
       "</table>\n",
       "</div>"
      ],
      "text/plain": [
       "        stop_name       stop_id  location_type parent_station  cluster_id  \\\n",
       "0        Tse Addo    5010786347              0   SA5010786347        1081   \n",
       "1          Bostal    5030747563              0   SA5030747563         358   \n",
       "2  Second Juction    5010786348              0   SA5010786348          60   \n",
       "3        Junction    5010786349              0   SA5010786349          60   \n",
       "4          Fadama  SA4990070170              1            NaN         732   \n",
       "\n",
       "   stop_lon  stop_lat  \n",
       "0 -0.138535  5.587618  \n",
       "1 -0.188797  5.606415  \n",
       "2 -0.141622  5.585648  \n",
       "3 -0.142669  5.584328  \n",
       "4 -0.240793  5.601748  "
      ]
     },
     "execution_count": 5,
     "metadata": {},
     "output_type": "execute_result"
    }
   ],
   "source": [
    "feed.stops.head()"
   ]
  },
  {
   "cell_type": "markdown",
   "metadata": {},
   "source": [
    "#### Patterns"
   ]
  },
  {
   "cell_type": "markdown",
   "metadata": {},
   "source": [
    "Patterns definition can be based on this new column"
   ]
  },
  {
   "cell_type": "code",
   "execution_count": 6,
   "metadata": {},
   "outputs": [],
   "source": [
    "feed.build_patterns(on='cluster_id')"
   ]
  },
  {
   "cell_type": "markdown",
   "metadata": {},
   "source": [
    "#### Directions"
   ]
  },
  {
   "cell_type": "markdown",
   "metadata": {},
   "source": [
    "It can also be used to derive the directions of the trips if they are not known"
   ]
  },
  {
   "cell_type": "code",
   "execution_count": 7,
   "metadata": {},
   "outputs": [],
   "source": [
    "feed.build_directions(on='cluster_id', all_trips=True)  # With all_trips=False, we only compute undefined directions"
   ]
  },
  {
   "cell_type": "code",
   "execution_count": 8,
   "metadata": {},
   "outputs": [
    {
     "data": {
      "text/html": [
       "<div>\n",
       "<style scoped>\n",
       "    .dataframe tbody tr th:only-of-type {\n",
       "        vertical-align: middle;\n",
       "    }\n",
       "\n",
       "    .dataframe tbody tr th {\n",
       "        vertical-align: top;\n",
       "    }\n",
       "\n",
       "    .dataframe thead th {\n",
       "        text-align: right;\n",
       "    }\n",
       "</style>\n",
       "<table border=\"1\" class=\"dataframe\">\n",
       "  <thead>\n",
       "    <tr style=\"text-align: right;\">\n",
       "      <th></th>\n",
       "      <th>route_id</th>\n",
       "      <th>trip_id</th>\n",
       "      <th>service_id</th>\n",
       "      <th>shape_id</th>\n",
       "      <th>trip_headsign</th>\n",
       "      <th>pattern_id</th>\n",
       "      <th>direction_id</th>\n",
       "    </tr>\n",
       "  </thead>\n",
       "  <tbody>\n",
       "    <tr>\n",
       "      <th>0</th>\n",
       "      <td>7589525</td>\n",
       "      <td>344</td>\n",
       "      <td>0</td>\n",
       "      <td>7589522</td>\n",
       "      <td>Nima Overhead Maamobi</td>\n",
       "      <td>7589525_0</td>\n",
       "      <td>1</td>\n",
       "    </tr>\n",
       "    <tr>\n",
       "      <th>1</th>\n",
       "      <td>7437148</td>\n",
       "      <td>0</td>\n",
       "      <td>0</td>\n",
       "      <td>7437119</td>\n",
       "      <td>Amasaman</td>\n",
       "      <td>7437148_0</td>\n",
       "      <td>1</td>\n",
       "    </tr>\n",
       "    <tr>\n",
       "      <th>2</th>\n",
       "      <td>7435747</td>\n",
       "      <td>346</td>\n",
       "      <td>0</td>\n",
       "      <td>7435456</td>\n",
       "      <td>Ashaiman Main Station</td>\n",
       "      <td>7435747_0</td>\n",
       "      <td>0</td>\n",
       "    </tr>\n",
       "    <tr>\n",
       "      <th>3</th>\n",
       "      <td>7435747</td>\n",
       "      <td>347</td>\n",
       "      <td>0</td>\n",
       "      <td>7435650</td>\n",
       "      <td>Abeka Lapaz</td>\n",
       "      <td>7435747_1</td>\n",
       "      <td>1</td>\n",
       "    </tr>\n",
       "    <tr>\n",
       "      <th>4</th>\n",
       "      <td>7476946</td>\n",
       "      <td>340</td>\n",
       "      <td>0</td>\n",
       "      <td>7476945</td>\n",
       "      <td>Nima</td>\n",
       "      <td>7476946_0</td>\n",
       "      <td>0</td>\n",
       "    </tr>\n",
       "  </tbody>\n",
       "</table>\n",
       "</div>"
      ],
      "text/plain": [
       "  route_id trip_id service_id shape_id          trip_headsign pattern_id  \\\n",
       "0  7589525     344          0  7589522  Nima Overhead Maamobi  7589525_0   \n",
       "1  7437148       0          0  7437119               Amasaman  7437148_0   \n",
       "2  7435747     346          0  7435456  Ashaiman Main Station  7435747_0   \n",
       "3  7435747     347          0  7435650            Abeka Lapaz  7435747_1   \n",
       "4  7476946     340          0  7476945                   Nima  7476946_0   \n",
       "\n",
       "   direction_id  \n",
       "0             1  \n",
       "1             1  \n",
       "2             0  \n",
       "3             1  \n",
       "4             0  "
      ]
     },
     "execution_count": 8,
     "metadata": {},
     "output_type": "execute_result"
    }
   ],
   "source": [
    "feed.trips.head()"
   ]
  }
 ],
 "metadata": {
  "anaconda-cloud": {},
  "kernelspec": {
   "display_name": "Python 3",
   "language": "python",
   "name": "python3"
  },
  "language_info": {
   "codemirror_mode": {
    "name": "ipython",
    "version": 3
   },
   "file_extension": ".py",
   "mimetype": "text/x-python",
   "name": "python",
   "nbconvert_exporter": "python",
   "pygments_lexer": "ipython3",
   "version": "3.6.8"
  }
 },
 "nbformat": 4,
 "nbformat_minor": 2
}
